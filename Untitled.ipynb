{
 "cells": [
  {
   "cell_type": "code",
   "execution_count": 62,
   "id": "871079e6",
   "metadata": {},
   "outputs": [],
   "source": [
    "#import Packages\n",
    "from selenium import webdriver\n",
    "import time\n",
    "import pandas as pd\n",
    "import os\n",
    "from selenium.webdriver.support.select import Select\n",
    "from selenium.webdriver.support.ui import WebDriverWait\n",
    "from selenium.webdriver.common.by import By\n",
    "from selenium.webdriver.support import expected_conditions as EC"
   ]
  },
  {
   "cell_type": "code",
   "execution_count": 63,
   "id": "95627a75",
   "metadata": {},
   "outputs": [],
   "source": [
    "url1 = 'https://www.linkedin.com/jobs/search?keywords=Project%20Management&location=India&locationId=&geoId=102713980&f_TPR=&f_PP=106164952&position=1&pageNum=0'\n",
    "url2='https://www.linkedin.com/jobs/search?keywords=Marketing%20Data%20Analyst&location=Berlin%2C%20Berlin%2C%20Germany&geoId=106967730&trk=public_jobs_jobs-search-bar_search-submit&position=1&pageNum=0'"
   ]
  },
  {
   "cell_type": "code",
   "execution_count": 64,
   "id": "f6326ec5",
   "metadata": {},
   "outputs": [
    {
     "name": "stderr",
     "output_type": "stream",
     "text": [
      "C:\\Users\\HP\\AppData\\Local\\Temp\\ipykernel_23276\\962824565.py:1: DeprecationWarning: executable_path has been deprecated, please pass in a Service object\n",
      "  driver = webdriver.Chrome(executable_path=r'C:\\Users\\HP\\Downloads\\chromedriver-win64\\chromedriver-win64\\chromedriver.exe')\n"
     ]
    }
   ],
   "source": [
    "driver = webdriver.Chrome(executable_path=r'C:\\Users\\HP\\Downloads\\chromedriver-win64\\chromedriver-win64\\chromedriver.exe')\n",
    "driver.get(url2) #to launch website\n",
    "driver.implicitly_wait(10) #to make it wait for 10 second"
   ]
  },
  {
   "cell_type": "code",
   "execution_count": 65,
   "id": "708fc5bc",
   "metadata": {},
   "outputs": [
    {
     "name": "stdout",
     "output_type": "stream",
     "text": [
      "135\n"
     ]
    }
   ],
   "source": [
    "# n=driver.find_element('results-context-header__job-count')[0].text\n",
    "n=\"Samarth\"\n",
    "for element in driver.find_elements(By.CLASS_NAME, 'results-context-header__job-count'):\n",
    "    n=element.text\n",
    "    print(element.text)"
   ]
  },
  {
   "cell_type": "code",
   "execution_count": 66,
   "id": "1bf0ae7d",
   "metadata": {},
   "outputs": [],
   "source": [
    "y=pd.to_numeric(n)"
   ]
  },
  {
   "cell_type": "code",
   "execution_count": 67,
   "id": "264ea108",
   "metadata": {},
   "outputs": [],
   "source": [
    "i=2\n",
    "while i<=8:\n",
    "    driver.execute_script(\"window.scrollTo(0, document.body.scrollHeight);\")\n",
    "    i=i+1\n",
    "    \n",
    "    try:\n",
    "        x=driver.find_element(By.XPATH,\"//button[@aria-label='Load more result']\")\n",
    "        driver.execure_script(\"arhument[0].click();\",x)\n",
    "        time.sleep(3)\n",
    "    except:\n",
    "        pass\n",
    "        time.sleep(4)"
   ]
  },
  {
   "cell_type": "code",
   "execution_count": null,
   "id": "f3afe805",
   "metadata": {},
   "outputs": [],
   "source": [
    "companyname=[]\n",
    "for j in range(y):\n",
    "    try:\n",
    "        company=driver.find_elements(By.CLASS_NAME,'base-search-card__subtitle')[j].text\n",
    "        companyname.append(company)\n",
    "    except IndexError:\n",
    "        print('Done')\n"
   ]
  },
  {
   "cell_type": "code",
   "execution_count": null,
   "id": "18aedf83",
   "metadata": {},
   "outputs": [],
   "source": [
    "companyname"
   ]
  },
  {
   "cell_type": "code",
   "execution_count": null,
   "id": "f6d4c488",
   "metadata": {
    "scrolled": true
   },
   "outputs": [],
   "source": [
    "titlename=[]\n",
    "for j in range(y):\n",
    "    try:\n",
    "        title=driver.find_elements(By.CLASS_NAME,\"base-search-card__title\")[j].text\n",
    "        titlename.append(title)\n",
    "    except IndexError:\n",
    "        print('Done')"
   ]
  },
  {
   "cell_type": "code",
   "execution_count": null,
   "id": "859b9150",
   "metadata": {},
   "outputs": [],
   "source": [
    "titlename"
   ]
  },
  {
   "cell_type": "code",
   "execution_count": 79,
   "id": "15b1d384",
   "metadata": {},
   "outputs": [],
   "source": [
    "companyfinal=pd.DataFrame(companyname,columns=[\"company\"])\n",
    "titlefinal=pd.DataFrame(titlename,columns=['title'])"
   ]
  },
  {
   "cell_type": "code",
   "execution_count": null,
   "id": "f05c3f67",
   "metadata": {},
   "outputs": [],
   "source": [
    "final=companyfinal.join(titlefinal)\n",
    "final"
   ]
  },
  {
   "cell_type": "code",
   "execution_count": 84,
   "id": "90373c6c",
   "metadata": {},
   "outputs": [],
   "source": [
    "final.to_csv('Linkedinjob.csv')"
   ]
  },
  {
   "cell_type": "code",
   "execution_count": null,
   "id": "e62976bf",
   "metadata": {},
   "outputs": [],
   "source": []
  }
 ],
 "metadata": {
  "kernelspec": {
   "display_name": "Python 3 (ipykernel)",
   "language": "python",
   "name": "python3"
  },
  "language_info": {
   "codemirror_mode": {
    "name": "ipython",
    "version": 3
   },
   "file_extension": ".py",
   "mimetype": "text/x-python",
   "name": "python",
   "nbconvert_exporter": "python",
   "pygments_lexer": "ipython3",
   "version": "3.11.5"
  }
 },
 "nbformat": 4,
 "nbformat_minor": 5
}
